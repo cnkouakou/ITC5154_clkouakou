{
 "cells": [
  {
   "cell_type": "markdown",
   "id": "805b4d28-1054-4b71-8c7f-67022cfce8b6",
   "metadata": {},
   "source": [
    "#### FIRST_NAME = \"Claude\"\n",
    "#### LAST_NAME = \"Kouakou\"\n",
    "#### STUDENT_ID = \"801438848\""
   ]
  },
  {
   "cell_type": "markdown",
   "id": "9c4707d7-3b53-48b3-992a-fef400b4623a",
   "metadata": {},
   "source": [
    "# Data Descrption - Objectives"
   ]
  },
  {
   "cell_type": "markdown",
   "id": "4e443b99-f2a5-49ed-ba8b-cc5def962f2b",
   "metadata": {},
   "source": [
    "# Unstructured Medical Text Dataset\n",
    " We are trying to design assistive technology that can identify, with high precision, the class of problems described in the abstract. In the given dataset, abstracts from 5 different conditions have been included: \n",
    "##### 1 - digestive system diseases, \n",
    "##### 2 - cardiovascular diseases, \n",
    "##### 3 - neoplasms, \n",
    "##### 4 - nervous system diseases, \n",
    "##### 5 - and general pathological conditions.\n",
    "The training dataset consists of 14438 records and the test dataset consists of 14442 records. The train data has classes whereas, the test data classes are needed to be predicted.\n",
    "The data are provided as text in train.dat and test.dat, which should be processed appropriately."
   ]
  },
  {
   "cell_type": "markdown",
   "id": "34102520-0ce5-4cb6-a397-eb2cbb5e2889",
   "metadata": {},
   "source": [
    "## Structured Heart Disease Dataset \n",
    "This data set dates from 1988 and consists of four databases: Cleveland, Hungary, Switzerland, and Long Beach V. All published experiments refer to using a subset of 14 attrinbutes. The \"target\" field refers to the presence of heart disease in the patient. It is integer valued 0 = no disease.\n",
    "##### 1 age\n",
    "##### 2 sex\n",
    "##### 4 chest pain type (4 values)\n",
    "##### 5 resting blood pressure\n",
    "##### 6 serum cholestoral in mg/dl\n",
    "##### 7 fasting blood sugar > 120 mg/dl\n",
    "##### 8 resting electrocardiographic results (values 0,1,2)\n",
    "##### 9 maximum heart rate achieved\n",
    "##### 10 exercise induced angina\n",
    "##### 11 oldpeak = ST depression induced by exercise relative to rest\n",
    "##### 12 the slope of the peak exercise ST segment\n",
    "##### 13 number of major vessels (0-3) colored by flourosopy\n",
    "##### 14 thal: 0 = normal; 1 = fixed defect; 2 = reversable defect"
   ]
  },
  {
   "cell_type": "markdown",
   "id": "a49c5e49-3bf0-4296-a040-c96ee1b3e24a",
   "metadata": {},
   "source": [
    "### Load the appropiate imports"
   ]
  },
  {
   "cell_type": "code",
   "execution_count": 1,
   "id": "378b1026-70e6-45c1-b7a8-1882e02bba6a",
   "metadata": {},
   "outputs": [],
   "source": [
    "import os\n",
    "import numpy as np\n",
    "import pandas as pd\n",
    "import seaborn as sns\n",
    "from pdb import set_trace\n",
    "from sklearn.metrics import confusion_matrix, classification_report\n",
    "from sklearn.utils import resample\n",
    "from sklearn.preprocessing import StandardScaler\n",
    "import tensorflow as tf\n",
    "from tensorflow import keras\n",
    "from tensorflow.keras.models import Sequential, Model\n",
    "from tensorflow.keras.callbacks import EarlyStopping\n",
    "\n",
    "from tensorflow.keras.layers import Embedding, LSTM, Bidirectional, Dense, Dropout, GlobalMaxPooling1D, Input, Concatenate, Flatten\n",
    "from tensorflow.keras.preprocessing.text import Tokenizer\n",
    "from tensorflow.keras.preprocessing.sequence import pad_sequences\n",
    "from tensorflow.keras.utils import to_categorical\n",
    "from tensorflow.keras.optimizers import Adam\n",
    "from matplotlib import pyplot as plt\n",
    "from sklearn.model_selection import train_test_split\n",
    "from sklearn.preprocessing import OneHotEncoder\n",
    "import joblib\n",
    "\n",
    "# Set dataset path\n",
    "Path = \"C:/Users/cnkou/OneDrive/Documents/Education/UNCC/ITCS 5154/_Projects/Predictive Health Risk Models/Unstructured Text/Lab/data/\"\n",
    "# Patient conditions from the unstructured dataset \n",
    "conditions = [\n",
    "\"digestive system diseases\", \n",
    "\"cardiovascular diseases\", \n",
    "\"neoplasms\", \n",
    "\"nervous system diseases\", \n",
    "\"general pathological conditions\"\n",
    "]"
   ]
  },
  {
   "cell_type": "markdown",
   "id": "b9d63874-7cc1-40be-8c83-f80496813333",
   "metadata": {},
   "source": [
    "----------------------------------------------------------------------------\n",
    " Load and preprocess structured data (heart.csv)\n",
    "----------------------------------------------------------------------------"
   ]
  },
  {
   "cell_type": "code",
   "execution_count": 2,
   "id": "d04d9dbe-8433-4157-b832-1d196b51e844",
   "metadata": {},
   "outputs": [
    {
     "data": {
      "text/html": [
       "<div>\n",
       "<style scoped>\n",
       "    .dataframe tbody tr th:only-of-type {\n",
       "        vertical-align: middle;\n",
       "    }\n",
       "\n",
       "    .dataframe tbody tr th {\n",
       "        vertical-align: top;\n",
       "    }\n",
       "\n",
       "    .dataframe thead th {\n",
       "        text-align: right;\n",
       "    }\n",
       "</style>\n",
       "<table border=\"1\" class=\"dataframe\">\n",
       "  <thead>\n",
       "    <tr style=\"text-align: right;\">\n",
       "      <th></th>\n",
       "      <th>age</th>\n",
       "      <th>sex</th>\n",
       "      <th>cp</th>\n",
       "      <th>trestbps</th>\n",
       "      <th>chol</th>\n",
       "      <th>fbs</th>\n",
       "      <th>restecg</th>\n",
       "      <th>thalach</th>\n",
       "      <th>exang</th>\n",
       "      <th>oldpeak</th>\n",
       "      <th>slope</th>\n",
       "      <th>ca</th>\n",
       "      <th>thal</th>\n",
       "      <th>target</th>\n",
       "    </tr>\n",
       "  </thead>\n",
       "  <tbody>\n",
       "    <tr>\n",
       "      <th>860</th>\n",
       "      <td>52</td>\n",
       "      <td>1</td>\n",
       "      <td>0</td>\n",
       "      <td>112</td>\n",
       "      <td>230</td>\n",
       "      <td>0</td>\n",
       "      <td>1</td>\n",
       "      <td>160</td>\n",
       "      <td>0</td>\n",
       "      <td>0.0</td>\n",
       "      <td>2</td>\n",
       "      <td>1</td>\n",
       "      <td>2</td>\n",
       "      <td>0</td>\n",
       "    </tr>\n",
       "    <tr>\n",
       "      <th>121</th>\n",
       "      <td>44</td>\n",
       "      <td>1</td>\n",
       "      <td>0</td>\n",
       "      <td>120</td>\n",
       "      <td>169</td>\n",
       "      <td>0</td>\n",
       "      <td>1</td>\n",
       "      <td>144</td>\n",
       "      <td>1</td>\n",
       "      <td>2.8</td>\n",
       "      <td>0</td>\n",
       "      <td>0</td>\n",
       "      <td>1</td>\n",
       "      <td>0</td>\n",
       "    </tr>\n",
       "    <tr>\n",
       "      <th>466</th>\n",
       "      <td>44</td>\n",
       "      <td>1</td>\n",
       "      <td>1</td>\n",
       "      <td>130</td>\n",
       "      <td>219</td>\n",
       "      <td>0</td>\n",
       "      <td>0</td>\n",
       "      <td>188</td>\n",
       "      <td>0</td>\n",
       "      <td>0.0</td>\n",
       "      <td>2</td>\n",
       "      <td>0</td>\n",
       "      <td>2</td>\n",
       "      <td>1</td>\n",
       "    </tr>\n",
       "    <tr>\n",
       "      <th>330</th>\n",
       "      <td>37</td>\n",
       "      <td>0</td>\n",
       "      <td>2</td>\n",
       "      <td>120</td>\n",
       "      <td>215</td>\n",
       "      <td>0</td>\n",
       "      <td>1</td>\n",
       "      <td>170</td>\n",
       "      <td>0</td>\n",
       "      <td>0.0</td>\n",
       "      <td>2</td>\n",
       "      <td>0</td>\n",
       "      <td>2</td>\n",
       "      <td>1</td>\n",
       "    </tr>\n",
       "    <tr>\n",
       "      <th>87</th>\n",
       "      <td>59</td>\n",
       "      <td>0</td>\n",
       "      <td>0</td>\n",
       "      <td>174</td>\n",
       "      <td>249</td>\n",
       "      <td>0</td>\n",
       "      <td>1</td>\n",
       "      <td>143</td>\n",
       "      <td>1</td>\n",
       "      <td>0.0</td>\n",
       "      <td>1</td>\n",
       "      <td>0</td>\n",
       "      <td>2</td>\n",
       "      <td>0</td>\n",
       "    </tr>\n",
       "  </tbody>\n",
       "</table>\n",
       "</div>"
      ],
      "text/plain": [
       "     age  sex  cp  trestbps  chol  fbs  restecg  thalach  exang  oldpeak  \\\n",
       "860   52    1   0       112   230    0        1      160      0      0.0   \n",
       "121   44    1   0       120   169    0        1      144      1      2.8   \n",
       "466   44    1   1       130   219    0        0      188      0      0.0   \n",
       "330   37    0   2       120   215    0        1      170      0      0.0   \n",
       "87    59    0   0       174   249    0        1      143      1      0.0   \n",
       "\n",
       "     slope  ca  thal  target  \n",
       "860      2   1     2       0  \n",
       "121      0   0     1       0  \n",
       "466      2   0     2       1  \n",
       "330      2   0     2       1  \n",
       "87       1   0     2       0  "
      ]
     },
     "execution_count": 2,
     "metadata": {},
     "output_type": "execute_result"
    }
   ],
   "source": [
    "features = [\"age\",\"sex\",\"cp\",\"trestbps\",\"chol\",\"fbs\",\"restecg\",\"thalach\",\"exang\",\"oldpeak\",\"slope\",\"ca\" ,\"thal\", \"target\"]\n",
    "\n",
    "heart_df = pd.read_csv(Path + \"heart.csv\")\n",
    "heart_df = resample(heart_df, replace=True, n_samples=30000, random_state=42)\n",
    "heart_df = pd.DataFrame(heart_df, columns = features)  # Convert NumPy array to DataFrame\n",
    "\n",
    "X_heart = heart_df.drop(columns=[\"target\"]).values\n",
    " \n",
    "y_heart = heart_df[\"target\"].values\n",
    "y_heart_df = pd.DataFrame(y_heart, columns = ['target']) \n",
    "\n",
    "heart_df.head()"
   ]
  },
  {
   "cell_type": "code",
   "execution_count": 3,
   "id": "5779729e-ee04-46b3-9098-38053599806a",
   "metadata": {},
   "outputs": [
    {
     "name": "stdout",
     "output_type": "stream",
     "text": [
      "Unique values in t_test: [0 1]\n",
      "Number of times each unqiue value appears in t_test: [14500 15500]\n"
     ]
    }
   ],
   "source": [
    "uniques, counts = np.unique(y_heart, return_counts=True)\n",
    "\n",
    "print(f\"Unique values in t_test: {uniques}\")\n",
    "print(f\"Number of times each unqiue value appears in t_test: {counts}\")"
   ]
  },
  {
   "cell_type": "code",
   "execution_count": 4,
   "id": "f9a97c69-e3ef-4615-981d-f13763594f1c",
   "metadata": {},
   "outputs": [
    {
     "data": {
      "text/plain": [
       "array([], dtype=int64)"
      ]
     },
     "execution_count": 4,
     "metadata": {},
     "output_type": "execute_result"
    }
   ],
   "source": [
    "rows_with_null = y_heart[heart_df.isnull().any(axis=1)]\n",
    "rows_with_null"
   ]
  },
  {
   "cell_type": "code",
   "execution_count": 5,
   "id": "08935bf5-a325-405f-88ad-d007a4318433",
   "metadata": {},
   "outputs": [],
   "source": [
    "# Standardize structured data\n",
    "scaler = StandardScaler()\n",
    "X_heart = scaler.fit_transform(X_heart)"
   ]
  },
  {
   "cell_type": "markdown",
   "id": "a360f08d-bc4a-419e-b940-39f202cedbd2",
   "metadata": {},
   "source": [
    "# Load and preprocess unstructured text data (train.dat)"
   ]
  },
  {
   "cell_type": "code",
   "execution_count": 6,
   "id": "880c2d06-90ad-4d6e-91a1-9980d8e634ee",
   "metadata": {},
   "outputs": [],
   "source": [
    "train_data = pd.read_csv(Path + \"train.dat\", sep=\"\\t\", header=None)\n",
    "train_data.rename(columns = {0: 'conditions', 1: 'full_text'}, inplace=True)\n",
    "train_data = train_data[train_data['conditions'] != 5]# Drop label '5' from dataset \n",
    "train_data = resample(train_data, replace=True, n_samples=X_heart.shape[0], random_state=42)\n",
    "train_data.reset_index(drop=True, inplace=True)\n",
    "\n",
    "labels = train_data['conditions'].values  # Extract labels\n",
    "labels -= 1 # Convert from {1,2,3,4} to {0,1,2,3}\n",
    "texts = train_data['full_text'].astype(str).values  # Convert text column to string"
   ]
  },
  {
   "cell_type": "markdown",
   "id": "17564773-9676-4e70-b673-8f01b075fe12",
   "metadata": {},
   "source": [
    "### Add a count plot of the conditions that provide some sort of insight into the data set."
   ]
  },
  {
   "cell_type": "code",
   "execution_count": 23,
   "id": "deebf817-7360-4293-a5a7-c587fc381083",
   "metadata": {},
   "outputs": [
    {
     "name": "stdout",
     "output_type": "stream",
     "text": [
      "Unique values in t_test: [0 1 2 3]\n",
      "Number of times each unqiue value appears in t_test: [9821 4679 6076 9424]\n"
     ]
    }
   ],
   "source": [
    "luniques, lcounts = np.unique(labels, return_counts=True)\n",
    "\n",
    "print(f\"Unique values in labels: {luniques}\")\n",
    "print(f\"Number of times each unique value appears in labels: {lcounts}\")"
   ]
  },
  {
   "cell_type": "code",
   "execution_count": 7,
   "id": "33e60861-1542-4735-8a8e-66e3a848735f",
   "metadata": {},
   "outputs": [
    {
     "data": {
      "image/png": "[encoded data removed]",
      "text/plain": [
       "<Figure size 800x500 with 1 Axes>"
      ]
     },
     "metadata": {},
     "output_type": "display_data"
    }
   ],
   "source": [
    "plt.figure(figsize=(8, 5))\n",
    "sns.countplot(x=\"conditions\", data=train_data, hue=\"conditions\", palette=\"viridis\", legend=False)\n",
    "plt.title(\"Distribution of the conditions\")\n",
    "plt.xlabel(\"Conditions\")\n",
    "plt.ylabel(\"Count\")\n",
    "plt.show()"
   ]
  },
  {
   "cell_type": "markdown",
   "id": "6faa196b-d124-41ce-b32d-2beffa4dd1df",
   "metadata": {},
   "source": [
    "# Load and Preprocess Unstructured Medical Test Data (text) for Prediction"
   ]
  },
  {
   "cell_type": "code",
   "execution_count": 8,
   "id": "abd9c920-2c76-4154-8533-0a37cafc8ed9",
   "metadata": {},
   "outputs": [
    {
     "name": "stdout",
     "output_type": "stream",
     "text": [
      "df_test Shape:  (14442, 1)\n",
      "<class 'pandas.core.frame.DataFrame'>\n",
      "RangeIndex: 14442 entries, 0 to 14441\n",
      "Data columns (total 1 columns):\n",
      " #   Column     Non-Null Count  Dtype \n",
      "---  ------     --------------  ----- \n",
      " 0   full_text  14442 non-null  object\n",
      "dtypes: object(1)\n",
      "memory usage: 113.0+ KB\n",
      "                                           full_text\n",
      "0  Excision of limbal dermoids. We reviewed the c...\n",
      "1  Bell's palsy. A diagnosis of exclusion. In cas...\n",
      "2  Retained endobronchial foreign body removal fa...\n",
      "3  Recurrent buccal space abscesses: a complicati...\n",
      "4  Intracranial fibromatosis. Fibromatoses are un...\n"
     ]
    }
   ],
   "source": [
    "df_test = pd.read_csv(Path +'test.dat', sep='\\t', header=None)\n",
    "print(\"df_test Shape: \", (df_test.shape))\n",
    "\n",
    "df_test.rename(columns = {0: 'full_text'}, inplace=True)\n",
    "df_test.info()\n",
    "print(df_test.head())"
   ]
  },
  {
   "cell_type": "markdown",
   "id": "9d6bca9c-076a-45f9-bc0d-a0f5cd1398a5",
   "metadata": {},
   "source": [
    "# Tokenization and Padding**"
   ]
  },
  {
   "cell_type": "code",
   "execution_count": 27,
   "id": "e349a924-331e-4d03-86a7-1d03fbeca14b",
   "metadata": {},
   "outputs": [],
   "source": [
    "max_words = 20000  # Vocabulary size\n",
    "max_len = 100  # Max length of each text sequence\n",
    "\n",
    "tokenizer = Tokenizer(num_words=max_words, oov_token=\"<OOV>\")\n",
    "tokenizer.fit_on_texts(texts)\n",
    "X_text = tokenizer.texts_to_sequences(texts)\n",
    "X_text = pad_sequences(X_text, maxlen=max_len, padding=\"post\")"
   ]
  },
  {
   "cell_type": "markdown",
   "id": "167e9f5c-6b64-4097-b763-d710b124d599",
   "metadata": {},
   "source": [
    "# One-hot encode structured data"
   ]
  },
  {
   "cell_type": "code",
   "execution_count": 10,
   "id": "524a92df-8701-41bd-a449-b60602ca5b8b",
   "metadata": {},
   "outputs": [],
   "source": [
    "encoder = OneHotEncoder(handle_unknown=\"ignore\", sparse_output=False)\n",
    "X_heart_encoded = encoder.fit_transform(X_heart)"
   ]
  },
  {
   "cell_type": "markdown",
   "id": "cdec2764-b4f6-467d-a3e0-73a858565ac3",
   "metadata": {},
   "source": [
    "# Convert labels to categorical (4 classes)"
   ]
  },
  {
   "cell_type": "code",
   "execution_count": 11,
   "id": "7083e176-4d07-416f-8e73-78f03454d009",
   "metadata": {},
   "outputs": [],
   "source": [
    "num_classes = 4\n",
    "y_categorical = to_categorical(labels, num_classes=num_classes)"
   ]
  },
  {
   "cell_type": "markdown",
   "id": "01c06727-30d0-42c5-9692-fd6902350e2c",
   "metadata": {},
   "source": [
    "#  Create the text_model: Text Model (Unstructured Data)"
   ]
  },
  {
   "cell_type": "code",
   "execution_count": 12,
   "id": "cd2250a5-2ec1-4838-80f4-356e51cfc7a8",
   "metadata": {},
   "outputs": [],
   "source": [
    "text_input = Input(shape=(max_len,), name=\"text_input\")  # Input for text data\n",
    "text_model = Sequential([\n",
    "    Embedding(max_words, 128),\n",
    "    Bidirectional(LSTM(64, return_sequences=True)),\n",
    "    GlobalMaxPooling1D(),\n",
    "    Dense(128, activation=\"relu\"),\n",
    "    Dropout(0.3)\n",
    "])\n",
    "text_output = text_model(text_input)  # Call model with input layer\n"
   ]
  },
  {
   "cell_type": "markdown",
   "id": "e6b74fb4-a016-4990-8161-7668c36b6e11",
   "metadata": {},
   "source": [
    "#  Create the structured_model: Structured Model (Structured Data)"
   ]
  },
  {
   "cell_type": "code",
   "execution_count": 13,
   "id": "b7711796-4819-4812-9aad-f04e732a38aa",
   "metadata": {},
   "outputs": [],
   "source": [
    "structured_input = Input(shape=(X_heart_encoded.shape[1],), name=\"structured_input\")  # Input for structured data\n",
    "structured_model = Sequential([\n",
    "    Input(shape=(X_heart_encoded.shape[1],)),\n",
    "    Dense(64, activation=\"relu\" ),\n",
    "    Dropout(0.3),\n",
    "    Dense(32, activation=\"relu\"),\n",
    "    Dropout(0.3),\n",
    "    Dense(16, activation=\"relu\"),\n",
    "    Dropout(0.3),\n",
    "    Dense(8, activation=\"relu\")\n",
    "])\n",
    "structured_output = structured_model(structured_input)  # Call model with input layer\n"
   ]
  },
  {
   "cell_type": "markdown",
   "id": "26a7d324-a5ef-4b86-9e1c-da2b43c386be",
   "metadata": {},
   "source": [
    "# Create the Fusion Layer (merged): Combine Both Models: text_model and structured_model"
   ]
  },
  {
   "cell_type": "code",
   "execution_count": 14,
   "id": "785edf5a-3da7-477f-a244-47d43590a6af",
   "metadata": {},
   "outputs": [],
   "source": [
    "merged = Concatenate()([text_model.output, structured_model.output])\n",
    "merged = Dense(128, activation=\"relu\")(merged)\n",
    "merged = Dropout(0.3)(merged)\n",
    "merged = Dense(64, activation=\"relu\")(merged)\n",
    "output = Dense(num_classes, activation=\"softmax\")(merged)"
   ]
  },
  {
   "cell_type": "markdown",
   "id": "fcbbe2e5-524d-40c6-8c55-2a70af6d7ae3",
   "metadata": {},
   "source": [
    "#  Create the Final Model (final_model) "
   ]
  },
  {
   "cell_type": "code",
   "execution_count": 15,
   "id": "9ea01f9c-179f-46c7-9541-c6ba05c69a20",
   "metadata": {},
   "outputs": [],
   "source": [
    "final_model = Model(inputs=[text_model.input, structured_model.input], outputs=output)\n",
    "final_model.compile(optimizer=Adam(learning_rate=0.0002), loss=\"categorical_crossentropy\", metrics=[\"accuracy\"])\n"
   ]
  },
  {
   "cell_type": "markdown",
   "id": "1c34c802-d467-4c9e-821d-6898403fefed",
   "metadata": {},
   "source": [
    "# Model Summary"
   ]
  },
  {
   "cell_type": "code",
   "execution_count": 16,
   "id": "d2bb7ba4-c282-447d-99ba-8db816d29834",
   "metadata": {},
   "outputs": [
    {
     "data": {
      "text/html": [
       "<pre style=\"white-space:pre;overflow-x:auto;line-height:normal;font-family:Menlo,'DejaVu Sans Mono',consolas,'Courier New',monospace\"><span style=\"font-weight: bold\">Model: \"functional_2\"</span>\n",
       "</pre>\n"
      ],
      "text/plain": [
       "\u001b[1mModel: \"functional_2\"\u001b[0m\n"
      ]
     },
     "metadata": {},
     "output_type": "display_data"
    },
    {
     "data": {
      "text/html": [
       "<pre style=\"white-space:pre;overflow-x:auto;line-height:normal;font-family:Menlo,'DejaVu Sans Mono',consolas,'Courier New',monospace\">┏━━━━━━━━━━━━━━━━━━━━━━━━━━━━━━━┳━━━━━━━━━━━━━━━━━━━━━━━━━━━┳━━━━━━━━━━━━━━━━━┳━━━━━━━━━━━━━━━━━━━━━━━━━━━━┓\n",
       "┃<span style=\"font-weight: bold\"> Layer (type)                  </span>┃<span style=\"font-weight: bold\"> Output Shape              </span>┃<span style=\"font-weight: bold\">         Param # </span>┃<span style=\"font-weight: bold\"> Connected to               </span>┃\n",
       "┡━━━━━━━━━━━━━━━━━━━━━━━━━━━━━━━╇━━━━━━━━━━━━━━━━━━━━━━━━━━━╇━━━━━━━━━━━━━━━━━╇━━━━━━━━━━━━━━━━━━━━━━━━━━━━┩\n",
       "│ text_input (<span style=\"color: #0087ff; text-decoration-color: #0087ff\">InputLayer</span>)       │ (<span style=\"color: #00d7ff; text-decoration-color: #00d7ff\">None</span>, <span style=\"color: #00af00; text-decoration-color: #00af00\">100</span>)               │               <span style=\"color: #00af00; text-decoration-color: #00af00\">0</span> │ -                          │\n",
       "├───────────────────────────────┼───────────────────────────┼─────────────────┼────────────────────────────┤\n",
       "│ structured_input (<span style=\"color: #0087ff; text-decoration-color: #0087ff\">InputLayer</span>) │ (<span style=\"color: #00d7ff; text-decoration-color: #00d7ff\">None</span>, <span style=\"color: #00af00; text-decoration-color: #00af00\">398</span>)               │               <span style=\"color: #00af00; text-decoration-color: #00af00\">0</span> │ -                          │\n",
       "├───────────────────────────────┼───────────────────────────┼─────────────────┼────────────────────────────┤\n",
       "│ sequential (<span style=\"color: #0087ff; text-decoration-color: #0087ff\">Sequential</span>)       │ (<span style=\"color: #00d7ff; text-decoration-color: #00d7ff\">None</span>, <span style=\"color: #00af00; text-decoration-color: #00af00\">128</span>)               │       <span style=\"color: #00af00; text-decoration-color: #00af00\">2,675,328</span> │ text_input[<span style=\"color: #00af00; text-decoration-color: #00af00\">0</span>][<span style=\"color: #00af00; text-decoration-color: #00af00\">0</span>]           │\n",
       "├───────────────────────────────┼───────────────────────────┼─────────────────┼────────────────────────────┤\n",
       "│ sequential_1 (<span style=\"color: #0087ff; text-decoration-color: #0087ff\">Sequential</span>)     │ (<span style=\"color: #00d7ff; text-decoration-color: #00d7ff\">None</span>, <span style=\"color: #00af00; text-decoration-color: #00af00\">8</span>)                 │          <span style=\"color: #00af00; text-decoration-color: #00af00\">28,280</span> │ structured_input[<span style=\"color: #00af00; text-decoration-color: #00af00\">0</span>][<span style=\"color: #00af00; text-decoration-color: #00af00\">0</span>]     │\n",
       "├───────────────────────────────┼───────────────────────────┼─────────────────┼────────────────────────────┤\n",
       "│ concatenate (<span style=\"color: #0087ff; text-decoration-color: #0087ff\">Concatenate</span>)     │ (<span style=\"color: #00d7ff; text-decoration-color: #00d7ff\">None</span>, <span style=\"color: #00af00; text-decoration-color: #00af00\">136</span>)               │               <span style=\"color: #00af00; text-decoration-color: #00af00\">0</span> │ sequential[<span style=\"color: #00af00; text-decoration-color: #00af00\">0</span>][<span style=\"color: #00af00; text-decoration-color: #00af00\">0</span>],          │\n",
       "│                               │                           │                 │ sequential_1[<span style=\"color: #00af00; text-decoration-color: #00af00\">0</span>][<span style=\"color: #00af00; text-decoration-color: #00af00\">0</span>]         │\n",
       "├───────────────────────────────┼───────────────────────────┼─────────────────┼────────────────────────────┤\n",
       "│ dense_5 (<span style=\"color: #0087ff; text-decoration-color: #0087ff\">Dense</span>)               │ (<span style=\"color: #00d7ff; text-decoration-color: #00d7ff\">None</span>, <span style=\"color: #00af00; text-decoration-color: #00af00\">128</span>)               │          <span style=\"color: #00af00; text-decoration-color: #00af00\">17,536</span> │ concatenate[<span style=\"color: #00af00; text-decoration-color: #00af00\">0</span>][<span style=\"color: #00af00; text-decoration-color: #00af00\">0</span>]          │\n",
       "├───────────────────────────────┼───────────────────────────┼─────────────────┼────────────────────────────┤\n",
       "│ dropout_4 (<span style=\"color: #0087ff; text-decoration-color: #0087ff\">Dropout</span>)           │ (<span style=\"color: #00d7ff; text-decoration-color: #00d7ff\">None</span>, <span style=\"color: #00af00; text-decoration-color: #00af00\">128</span>)               │               <span style=\"color: #00af00; text-decoration-color: #00af00\">0</span> │ dense_5[<span style=\"color: #00af00; text-decoration-color: #00af00\">0</span>][<span style=\"color: #00af00; text-decoration-color: #00af00\">0</span>]              │\n",
       "├───────────────────────────────┼───────────────────────────┼─────────────────┼────────────────────────────┤\n",
       "│ dense_6 (<span style=\"color: #0087ff; text-decoration-color: #0087ff\">Dense</span>)               │ (<span style=\"color: #00d7ff; text-decoration-color: #00d7ff\">None</span>, <span style=\"color: #00af00; text-decoration-color: #00af00\">64</span>)                │           <span style=\"color: #00af00; text-decoration-color: #00af00\">8,256</span> │ dropout_4[<span style=\"color: #00af00; text-decoration-color: #00af00\">0</span>][<span style=\"color: #00af00; text-decoration-color: #00af00\">0</span>]            │\n",
       "├───────────────────────────────┼───────────────────────────┼─────────────────┼────────────────────────────┤\n",
       "│ dense_7 (<span style=\"color: #0087ff; text-decoration-color: #0087ff\">Dense</span>)               │ (<span style=\"color: #00d7ff; text-decoration-color: #00d7ff\">None</span>, <span style=\"color: #00af00; text-decoration-color: #00af00\">4</span>)                 │             <span style=\"color: #00af00; text-decoration-color: #00af00\">260</span> │ dense_6[<span style=\"color: #00af00; text-decoration-color: #00af00\">0</span>][<span style=\"color: #00af00; text-decoration-color: #00af00\">0</span>]              │\n",
       "└───────────────────────────────┴───────────────────────────┴─────────────────┴────────────────────────────┘\n",
       "</pre>\n"
      ],
      "text/plain": [
       "┏━━━━━━━━━━━━━━━━━━━━━━━━━━━━━━━┳━━━━━━━━━━━━━━━━━━━━━━━━━━━┳━━━━━━━━━━━━━━━━━┳━━━━━━━━━━━━━━━━━━━━━━━━━━━━┓\n",
       "┃\u001b[1m \u001b[0m\u001b[1mLayer (type)                 \u001b[0m\u001b[1m \u001b[0m┃\u001b[1m \u001b[0m\u001b[1mOutput Shape             \u001b[0m\u001b[1m \u001b[0m┃\u001b[1m \u001b[0m\u001b[1m        Param #\u001b[0m\u001b[1m \u001b[0m┃\u001b[1m \u001b[0m\u001b[1mConnected to              \u001b[0m\u001b[1m \u001b[0m┃\n",
       "┡━━━━━━━━━━━━━━━━━━━━━━━━━━━━━━━╇━━━━━━━━━━━━━━━━━━━━━━━━━━━╇━━━━━━━━━━━━━━━━━╇━━━━━━━━━━━━━━━━━━━━━━━━━━━━┩\n",
       "│ text_input (\u001b[38;5;33mInputLayer\u001b[0m)       │ (\u001b[38;5;45mNone\u001b[0m, \u001b[38;5;34m100\u001b[0m)               │               \u001b[38;5;34m0\u001b[0m │ -                          │\n",
       "├───────────────────────────────┼───────────────────────────┼─────────────────┼────────────────────────────┤\n",
       "│ structured_input (\u001b[38;5;33mInputLayer\u001b[0m) │ (\u001b[38;5;45mNone\u001b[0m, \u001b[38;5;34m398\u001b[0m)               │               \u001b[38;5;34m0\u001b[0m │ -                          │\n",
       "├───────────────────────────────┼───────────────────────────┼─────────────────┼────────────────────────────┤\n",
       "│ sequential (\u001b[38;5;33mSequential\u001b[0m)       │ (\u001b[38;5;45mNone\u001b[0m, \u001b[38;5;34m128\u001b[0m)               │       \u001b[38;5;34m2,675,328\u001b[0m │ text_input[\u001b[38;5;34m0\u001b[0m][\u001b[38;5;34m0\u001b[0m]           │\n",
       "├───────────────────────────────┼───────────────────────────┼─────────────────┼────────────────────────────┤\n",
       "│ sequential_1 (\u001b[38;5;33mSequential\u001b[0m)     │ (\u001b[38;5;45mNone\u001b[0m, \u001b[38;5;34m8\u001b[0m)                 │          \u001b[38;5;34m28,280\u001b[0m │ structured_input[\u001b[38;5;34m0\u001b[0m][\u001b[38;5;34m0\u001b[0m]     │\n",
       "├───────────────────────────────┼───────────────────────────┼─────────────────┼────────────────────────────┤\n",
       "│ concatenate (\u001b[38;5;33mConcatenate\u001b[0m)     │ (\u001b[38;5;45mNone\u001b[0m, \u001b[38;5;34m136\u001b[0m)               │               \u001b[38;5;34m0\u001b[0m │ sequential[\u001b[38;5;34m0\u001b[0m][\u001b[38;5;34m0\u001b[0m],          │\n",
       "│                               │                           │                 │ sequential_1[\u001b[38;5;34m0\u001b[0m][\u001b[38;5;34m0\u001b[0m]         │\n",
       "├───────────────────────────────┼───────────────────────────┼─────────────────┼────────────────────────────┤\n",
       "│ dense_5 (\u001b[38;5;33mDense\u001b[0m)               │ (\u001b[38;5;45mNone\u001b[0m, \u001b[38;5;34m128\u001b[0m)               │          \u001b[38;5;34m17,536\u001b[0m │ concatenate[\u001b[38;5;34m0\u001b[0m][\u001b[38;5;34m0\u001b[0m]          │\n",
       "├───────────────────────────────┼───────────────────────────┼─────────────────┼────────────────────────────┤\n",
       "│ dropout_4 (\u001b[38;5;33mDropout\u001b[0m)           │ (\u001b[38;5;45mNone\u001b[0m, \u001b[38;5;34m128\u001b[0m)               │               \u001b[38;5;34m0\u001b[0m │ dense_5[\u001b[38;5;34m0\u001b[0m][\u001b[38;5;34m0\u001b[0m]              │\n",
       "├───────────────────────────────┼───────────────────────────┼─────────────────┼────────────────────────────┤\n",
       "│ dense_6 (\u001b[38;5;33mDense\u001b[0m)               │ (\u001b[38;5;45mNone\u001b[0m, \u001b[38;5;34m64\u001b[0m)                │           \u001b[38;5;34m8,256\u001b[0m │ dropout_4[\u001b[38;5;34m0\u001b[0m][\u001b[38;5;34m0\u001b[0m]            │\n",
       "├───────────────────────────────┼───────────────────────────┼─────────────────┼────────────────────────────┤\n",
       "│ dense_7 (\u001b[38;5;33mDense\u001b[0m)               │ (\u001b[38;5;45mNone\u001b[0m, \u001b[38;5;34m4\u001b[0m)                 │             \u001b[38;5;34m260\u001b[0m │ dense_6[\u001b[38;5;34m0\u001b[0m][\u001b[38;5;34m0\u001b[0m]              │\n",
       "└───────────────────────────────┴───────────────────────────┴─────────────────┴────────────────────────────┘\n"
      ]
     },
     "metadata": {},
     "output_type": "display_data"
    },
    {
     "data": {
      "text/html": [
       "<pre style=\"white-space:pre;overflow-x:auto;line-height:normal;font-family:Menlo,'DejaVu Sans Mono',consolas,'Courier New',monospace\"><span style=\"font-weight: bold\"> Total params: </span><span style=\"color: #00af00; text-decoration-color: #00af00\">2,729,660</span> (10.41 MB)\n",
       "</pre>\n"
      ],
      "text/plain": [
       "\u001b[1m Total params: \u001b[0m\u001b[38;5;34m2,729,660\u001b[0m (10.41 MB)\n"
      ]
     },
     "metadata": {},
     "output_type": "display_data"
    },
    {
     "data": {
      "text/html": [
       "<pre style=\"white-space:pre;overflow-x:auto;line-height:normal;font-family:Menlo,'DejaVu Sans Mono',consolas,'Courier New',monospace\"><span style=\"font-weight: bold\"> Trainable params: </span><span style=\"color: #00af00; text-decoration-color: #00af00\">2,729,660</span> (10.41 MB)\n",
       "</pre>\n"
      ],
      "text/plain": [
       "\u001b[1m Trainable params: \u001b[0m\u001b[38;5;34m2,729,660\u001b[0m (10.41 MB)\n"
      ]
     },
     "metadata": {},
     "output_type": "display_data"
    },
    {
     "data": {
      "text/html": [
       "<pre style=\"white-space:pre;overflow-x:auto;line-height:normal;font-family:Menlo,'DejaVu Sans Mono',consolas,'Courier New',monospace\"><span style=\"font-weight: bold\"> Non-trainable params: </span><span style=\"color: #00af00; text-decoration-color: #00af00\">0</span> (0.00 B)\n",
       "</pre>\n"
      ],
      "text/plain": [
       "\u001b[1m Non-trainable params: \u001b[0m\u001b[38;5;34m0\u001b[0m (0.00 B)\n"
      ]
     },
     "metadata": {},
     "output_type": "display_data"
    }
   ],
   "source": [
    "final_model.summary()"
   ]
  },
  {
   "cell_type": "markdown",
   "id": "da289afe-02fa-4722-8921-1c28daae2fdb",
   "metadata": {},
   "source": [
    "# Train the whole Model"
   ]
  },
  {
   "cell_type": "code",
   "execution_count": 17,
   "id": "95efbc07-f456-4514-9f5d-3eeeacf603fe",
   "metadata": {},
   "outputs": [
    {
     "name": "stdout",
     "output_type": "stream",
     "text": [
      "Epoch 1/20\n",
      "\u001b[1m750/750\u001b[0m \u001b[32m━━━━━━━━━━━━━━━━━━━━\u001b[0m\u001b[37m\u001b[0m \u001b[1m48s\u001b[0m 58ms/step - accuracy: 0.4272 - loss: 1.2096 - val_accuracy: 0.7927 - val_loss: 0.6428\n",
      "Epoch 2/20\n",
      "\u001b[1m750/750\u001b[0m \u001b[32m━━━━━━━━━━━━━━━━━━━━\u001b[0m\u001b[37m\u001b[0m \u001b[1m41s\u001b[0m 55ms/step - accuracy: 0.8381 - loss: 0.5086 - val_accuracy: 0.8855 - val_loss: 0.3646\n",
      "Epoch 3/20\n",
      "\u001b[1m750/750\u001b[0m \u001b[32m━━━━━━━━━━━━━━━━━━━━\u001b[0m\u001b[37m\u001b[0m \u001b[1m41s\u001b[0m 54ms/step - accuracy: 0.9116 - loss: 0.2864 - val_accuracy: 0.8995 - val_loss: 0.3029\n",
      "Epoch 4/20\n",
      "\u001b[1m750/750\u001b[0m \u001b[32m━━━━━━━━━━━━━━━━━━━━\u001b[0m\u001b[37m\u001b[0m \u001b[1m44s\u001b[0m 58ms/step - accuracy: 0.9281 - loss: 0.2190 - val_accuracy: 0.9065 - val_loss: 0.2842\n",
      "Epoch 5/20\n",
      "\u001b[1m750/750\u001b[0m \u001b[32m━━━━━━━━━━━━━━━━━━━━\u001b[0m\u001b[37m\u001b[0m \u001b[1m45s\u001b[0m 60ms/step - accuracy: 0.9273 - loss: 0.1887 - val_accuracy: 0.9093 - val_loss: 0.2542\n",
      "Epoch 6/20\n",
      "\u001b[1m750/750\u001b[0m \u001b[32m━━━━━━━━━━━━━━━━━━━━\u001b[0m\u001b[37m\u001b[0m \u001b[1m43s\u001b[0m 57ms/step - accuracy: 0.9294 - loss: 0.1656 - val_accuracy: 0.9062 - val_loss: 0.2543\n",
      "Epoch 7/20\n",
      "\u001b[1m750/750\u001b[0m \u001b[32m━━━━━━━━━━━━━━━━━━━━\u001b[0m\u001b[37m\u001b[0m \u001b[1m43s\u001b[0m 57ms/step - accuracy: 0.9346 - loss: 0.1455 - val_accuracy: 0.9052 - val_loss: 0.2540\n",
      "Epoch 8/20\n",
      "\u001b[1m750/750\u001b[0m \u001b[32m━━━━━━━━━━━━━━━━━━━━\u001b[0m\u001b[37m\u001b[0m \u001b[1m45s\u001b[0m 60ms/step - accuracy: 0.9326 - loss: 0.1361 - val_accuracy: 0.9038 - val_loss: 0.2786\n",
      "Epoch 9/20\n",
      "\u001b[1m750/750\u001b[0m \u001b[32m━━━━━━━━━━━━━━━━━━━━\u001b[0m\u001b[37m\u001b[0m \u001b[1m44s\u001b[0m 58ms/step - accuracy: 0.9333 - loss: 0.1286 - val_accuracy: 0.9035 - val_loss: 0.2713\n",
      "Epoch 10/20\n",
      "\u001b[1m750/750\u001b[0m \u001b[32m━━━━━━━━━━━━━━━━━━━━\u001b[0m\u001b[37m\u001b[0m \u001b[1m45s\u001b[0m 59ms/step - accuracy: 0.9306 - loss: 0.1250 - val_accuracy: 0.9062 - val_loss: 0.2957\n",
      "Epoch 11/20\n",
      "\u001b[1m750/750\u001b[0m \u001b[32m━━━━━━━━━━━━━━━━━━━━\u001b[0m\u001b[37m\u001b[0m \u001b[1m45s\u001b[0m 60ms/step - accuracy: 0.9359 - loss: 0.1146 - val_accuracy: 0.9070 - val_loss: 0.2830\n",
      "Epoch 12/20\n",
      "\u001b[1m750/750\u001b[0m \u001b[32m━━━━━━━━━━━━━━━━━━━━\u001b[0m\u001b[37m\u001b[0m \u001b[1m45s\u001b[0m 60ms/step - accuracy: 0.9329 - loss: 0.1159 - val_accuracy: 0.9048 - val_loss: 0.2959\n",
      "---------------- Tranning Complete----------------------------\n"
     ]
    }
   ],
   "source": [
    "early_stop = EarlyStopping(monitor='val_loss', patience=5, restore_best_weights=True)\n",
    "\n",
    "history = final_model.fit([X_text, X_heart_encoded], y_categorical, epochs=20, batch_size=32, validation_split=0.2, callbacks = [early_stop] )\n",
    "\n",
    "print(\"---------------- Tranning Complete----------------------------\")"
   ]
  },
  {
   "cell_type": "markdown",
   "id": "d6a085ef-615b-49ed-9582-6e62dd7b61e9",
   "metadata": {},
   "source": [
    "# Evaluate Model"
   ]
  },
  {
   "cell_type": "code",
   "execution_count": 18,
   "id": "ac77e4d4-431f-4761-8711-9345597133fc",
   "metadata": {},
   "outputs": [
    {
     "name": "stdout",
     "output_type": "stream",
     "text": [
      "\u001b[1m938/938\u001b[0m \u001b[32m━━━━━━━━━━━━━━━━━━━━\u001b[0m\u001b[37m\u001b[0m \u001b[1m15s\u001b[0m 16ms/step - accuracy: 0.9410 - loss: 0.1221\n",
      "Test Accuracy: 0.9333, Test Loss: 0.1470\n"
     ]
    }
   ],
   "source": [
    "loss, accuracy = final_model.evaluate([X_text, X_heart_encoded], y_categorical)\n",
    "print(f\"Test Accuracy: {accuracy:.4f}, Test Loss: {loss:.4f}\")\n"
   ]
  },
  {
   "cell_type": "markdown",
   "id": "c96fa742-af98-49a3-ba8d-3f6d72fdfe39",
   "metadata": {},
   "source": [
    "# Make Predictions"
   ]
  },
  {
   "cell_type": "code",
   "execution_count": 19,
   "id": "8a1c32f7-14d4-407f-bc24-98554270fbca",
   "metadata": {},
   "outputs": [
    {
     "name": "stdout",
     "output_type": "stream",
     "text": [
      "\u001b[1m1/1\u001b[0m \u001b[32m━━━━━━━━━━━━━━━━━━━━\u001b[0m\u001b[37m\u001b[0m \u001b[1m0s\u001b[0m 494ms/step\n",
      "Predicted condition of the patient: 2- neoplasms\n"
     ]
    }
   ],
   "source": [
    "def predict(model, text, heart_rec):\n",
    "    X_test_seq = tokenizer.texts_to_sequences(text)\n",
    "    X_test_padded = pad_sequences(X_test_seq, maxlen=max_len, padding='post')\n",
    "    # Convert to NumPy array for TensorFlow\n",
    "    X_test_padded = np.array(X_test_padded).astype(np.float32)\n",
    "    y_pred_probs = model.predict([X_test_padded, heart_rec])\n",
    "\n",
    "    return y_pred_probs\n",
    "# get some data for prediction\n",
    "X_test = df_test[:1]\n",
    "X_heart_test = X_heart_encoded[:1]\n",
    "\n",
    "y_pred = predict(final_model, X_test, X_heart_test )\n",
    "\n",
    "#  Convert probabilities to class labels (highest probability wins)\n",
    "y_Class_pred = np.argmax(y_pred, axis=1)\n",
    "\n",
    "print(f\"Predicted condition of the patient: {y_Class_pred[0]}-\", conditions[y_Class_pred[0]])\n",
    "\n"
   ]
  },
  {
   "cell_type": "markdown",
   "id": "76ad1d1e-2ed3-45e2-9e23-7adebdd457bb",
   "metadata": {},
   "source": [
    "# Plot the learning curve of the training"
   ]
  },
  {
   "cell_type": "code",
   "execution_count": 20,
   "id": "959c4826-0bb7-4709-821d-da7b1e7be4e2",
   "metadata": {},
   "outputs": [
    {
     "data": {
      "image/png": "[encoded data removed]",
      "text/plain": [
       "<Figure size 800x500 with 1 Axes>"
      ]
     },
     "metadata": {},
     "output_type": "display_data"
    }
   ],
   "source": [
    "pd.DataFrame(history.history).plot(figsize= (8,5))\n",
    "plt.grid(True)\n",
    "plt.gca().set_ylim(0,1)\n",
    "plt.show()"
   ]
  },
  {
   "cell_type": "markdown",
   "id": "1b754cd6-aee8-4089-93aa-8e19333e94e5",
   "metadata": {},
   "source": [
    "# Plot the confusion matrix & F1-score"
   ]
  },
  {
   "cell_type": "code",
   "execution_count": 21,
   "id": "22a69e9e-6690-43fa-a252-d009c673f8da",
   "metadata": {},
   "outputs": [
    {
     "name": "stdout",
     "output_type": "stream",
     "text": [
      "\u001b[1m938/938\u001b[0m \u001b[32m━━━━━━━━━━━━━━━━━━━━\u001b[0m\u001b[37m\u001b[0m \u001b[1m15s\u001b[0m 16ms/step\n"
     ]
    },
    {
     "data": {
      "image/png": "[encoded data removed]",
      "text/plain": [
       "<Figure size 600x500 with 2 Axes>"
      ]
     },
     "metadata": {},
     "output_type": "display_data"
    },
    {
     "name": "stdout",
     "output_type": "stream",
     "text": [
      "Classification Report:\n",
      "              precision    recall  f1-score   support\n",
      "\n",
      "           0     0.9329    0.9414    0.9371      9821\n",
      "           1     0.9095    0.9254    0.9174      4679\n",
      "           2     0.9050    0.9177    0.9113      6076\n",
      "           3     0.9651    0.9389    0.9518      9424\n",
      "\n",
      "    accuracy                         0.9333     30000\n",
      "   macro avg     0.9281    0.9308    0.9294     30000\n",
      "weighted avg     0.9337    0.9333    0.9334     30000\n",
      "\n"
     ]
    }
   ],
   "source": [
    "# Predict\n",
    "y_pred = final_model.predict([X_text, X_heart_encoded])\n",
    "y_pred_classes = np.argmax(y_pred, axis=1)\n",
    "\n",
    "y_true = np.argmax(y_categorical, axis=1) \n",
    "\n",
    "conf_matrix = confusion_matrix(y_true, y_pred_classes)\n",
    "\n",
    "# Step 4: Display Confusion Matrix as a Heatmap\n",
    "plt.figure(figsize=(6, 5))\n",
    "sns.heatmap(conf_matrix, annot=True, fmt='d', cmap='Blues', xticklabels=range(num_classes), yticklabels=range(num_classes))\n",
    "plt.xlabel(\"Predicted Label\")\n",
    "plt.ylabel(\"True Label\")\n",
    "plt.show()\n",
    "\n",
    "print(\"Classification Report:\")\n",
    "print(classification_report(y_true, y_pred_classes, digits=4))"
   ]
  },
  {
   "cell_type": "markdown",
   "id": "4b2635cb-4f1e-40d1-99c0-006736f01f6a",
   "metadata": {},
   "source": [
    "# Interpretation:\n",
    "Per-Class Metrics (Rows 0, 1, 2, 3)\n",
    "* Each row represents a class label (0, 1, 2, 3), and the columns show performance metrics for that class.\n",
    "\n",
    "   * Precision – Out of all predictions for this class, how many were correct?\n",
    "\n",
    "   * Example: Class 0 (0.9426 precision) → 94.26% of samples predicted as class 0 were actually class 0.\n",
    "* Recall (Sensitivity) – Out of all actual occurrences of this class, how many were correctly identified?\n",
    "\n",
    "   * Example: Class 1 (0.9312 recall) → 93.12% of actual class 1 samples were correctly predicted.\n",
    "* F1-score – The harmonic mean of precision & recall, balancing false positives and false negatives.\n",
    "\n",
    "   * Example: Class 2 (0.8997 F1-score) → A good balance of precision & recall.\n",
    "* Support – The number of true instances of each class in the dataset.\n",
    "\n",
    "   * Example: Class 3 has 9424 instances in the test set.\n",
    "# Overall:\n",
    "#### Overall Metrics (Last 3 Rows)\n",
    "* Accuracy (0.9311 or 93.11%) – The percentage of correctly classified samples across all classes.\n",
    "\n",
    "   * The model correctly classified 93.11% of the 30,000 samples.\n",
    "* Macro Average (0.9244 precision, 0.9284 recall, 0.9263 F1-score)\n",
    "\n",
    "   * A simple average across all classes.\n",
    "   * Treats all classes equally, useful if your dataset is imbalanced.\n",
    "* Weighted Average (0.9314 precision, 0.9311 recall, 0.9312 F1-score)\n",
    "\n",
    "   * Takes class imbalance into account, giving more weight to classes with more instances.\n",
    "\n",
    "Strong overall performance (93.11% accuracy, high F1-scores for all classes).\n",
    "* Class 1 has slightly lower precision (0.8989), meaning more false positives.\n",
    "* Class 2 has the lowest F1-score (0.8997), but still quite balanced.\n",
    "* Model is well-balanced across all classes, with no major class struggling.\n"
   ]
  },
  {
   "cell_type": "markdown",
   "id": "a5766e4b-8b5a-43c7-a22c-b23d8ca20fd6",
   "metadata": {},
   "source": [
    "# Save the Model & the Encoder"
   ]
  },
  {
   "cell_type": "code",
   "execution_count": 22,
   "id": "0394e6f5-b5b0-48c7-bf5f-6cc4014612cd",
   "metadata": {},
   "outputs": [],
   "source": [
    "model_file = Path + '5154_Claude_Project_model.keras'\n",
    "# Save the fitted encoder\n",
    "joblib.dump(encoder, Path + \"5154_Claude_Project_onehot_encoder.pkl\")\n",
    "# Save the final model\n",
    "final_model.save( model_file)"
   ]
  }
 ],
 "metadata": {
  "kernelspec": {
   "display_name": "Python 3 (ipykernel)",
   "language": "python",
   "name": "python3"
  },
  "language_info": {
   "codemirror_mode": {
    "name": "ipython",
    "version": 3
   },
   "file_extension": ".py",
   "mimetype": "text/x-python",
   "name": "python",
   "nbconvert_exporter": "python",
   "pygments_lexer": "ipython3",
   "version": "3.12.4"
  }
 },
 "nbformat": 4,
 "nbformat_minor": 5
}
